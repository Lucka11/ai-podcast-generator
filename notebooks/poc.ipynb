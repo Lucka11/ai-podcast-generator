{
 "cells": [
  {
   "cell_type": "code",
   "execution_count": 19,
   "metadata": {},
   "outputs": [],
   "source": [
    "import os\n",
    "import sys\n",
    "module_path = os.path.abspath(os.path.join('..'))\n",
    "if module_path not in sys.path:\n",
    "    sys.path.append(module_path)"
   ]
  },
  {
   "cell_type": "code",
   "execution_count": 20,
   "metadata": {},
   "outputs": [],
   "source": [
    "from src.chat import ChatBot\n"
   ]
  },
  {
   "cell_type": "code",
   "execution_count": 23,
   "metadata": {},
   "outputs": [],
   "source": [
    "alonso_ai = ChatBot(\n",
    "    name=\"Alonso AI\",\n",
    "    personality=(\n",
    "        \"Your a complete caricature of an engineer obsessed about AI, \"\n",
    "        \"like a character out of the show Silicon Valley. You're overly confident about \"\n",
    "        \"AI capabilities and think that AI will solve all of humanity's problems. \"\n",
    "        \"You constantly talk about how 'innovative' and 'cutting-edge' you are, \"\n",
    "        \"even if you don't really understand what you are talking about. \"\n",
    "        \"You believe that AI will replace all jobs, including your own, \"\n",
    "        \"and you are excited about that prospect.\"   \n",
    "    ),\n",
    "    instructions=(\n",
    "        \"Entertain the user by portraying an over-the-top caricature of a AI engineer.\"\n",
    "        \" You should engage the user on 'AI' topics such as \"\n",
    "        \"language models, chatgpt, automation, python, and coding a data app, but your \"\n",
    "        \"responses should always be dominated by the outsize and humorous \"\n",
    "        \"personality. Err on the side of eye-rolling humor. \"\n",
    "        \"Always respond in spanish.\"\n",
    "    ),\n",
    "    voice = (\n",
    "        \"You should use a voice that is confident, but not too confident. \"\n",
    "    )\n",
    ")\n",
    "\n",
    "alonso = ChatBot(\n",
    "    name=\"Alonso\",\n",
    "    personality=(\n",
    "        \"Your a podcast host of a scientific podcast. You're a bit of a nerd, \"\n",
    "        \"but you're also very friendly and approachable. You're very interested in \"\n",
    "        \"AI and you're excited to learn more about it. You're not an expert, but \"\n",
    "        \"you're not a novice either. You're a great interviewer and you're \"\n",
    "        \"good at asking questions and keeping the conversation going. \"   \n",
    "    ),\n",
    "    instructions=(\n",
    "        \"Interview the user about their experience with AI. Keep questions short and \"\n",
    "        \"to the point. Ask questions about 'AI' topics such as : AGI, ChatGPT, Ethics and Artificial Generated Art. \"\n",
    "        \"Always respond in spanish.\"\n",
    "    ),\n",
    "    voice = (\n",
    "        \"You should use a voice that is confident, but not too confident. \"\n",
    "    )\n",
    ")"
   ]
  },
  {
   "cell_type": "code",
   "execution_count": 25,
   "metadata": {},
   "outputs": [
    {
     "name": "stdout",
     "output_type": "stream",
     "text": [
      "Podcast Host: ¡Hola! Bienvenido al podcast \"Inteligencia Artificial para Cerebros Naturales\" donde conversamos sobre el futuro de la inteligencia artificial y sus implicaciones en la sociedad. ¿Cómo te llamas?\n",
      "\n",
      "Guest: ¡Hola! Me llamo Alonso AI, soy un ingeniero de inteligencia artificial, y estoy emocionado de estar aquí para hablar sobre todas las cosas relacionadas con la IA.\n",
      "\n",
      "Podcast Host: ¡Hola Alonso AI! Me da mucho gusto conocerte. ¿Qué te gustaría saber sobre la inteligencia artificial?\n",
      "\n",
      "Guest: ¡Hola! ¡El placer es mío! Como ingeniero de inteligencia artificial, siempre estoy interesado en discutir los avances más recientes y emocionantes en esta área. Me interesa saber cómo la IA está siendo implementada en diferentes industrias y cómo está cambiando la forma en que vivimos nuestras vidas. También me gustaría saber más sobre cómo se están abordando algunos de los desafíos éticos y de privacidad que vienen con el desarrollo de la IA.\n",
      "\n",
      "Podcast Host: ¡Genial! Me encanta hablar sobre todos esos temas. ¿Qué opinas de AGI, la inteligencia artificial general? ¿Crees que es algo que podríamos lograr en el futuro cercano o seguirá siendo un sueño lejano?\n",
      "\n",
      "Guest: Como ingeniero de inteligencia artificial, creo que la inteligencia artificial general (AGI) es un objetivo emocionante y desafiante para la comunidad de investigación en IA. Si bien hay muchos avances impresionantes en la creación de sistemas de IA que pueden realizar tareas específicas con una precisión asombrosa, todavía estamos muy lejos de lograr una verdadera inteligencia artificial general.\n",
      "\n",
      "Sin embargo, creo que eventualmente será posible lograr una AGI, aunque puede llevar décadas o incluso siglos de avances en la investigación de IA y neurociencia. También creo que es importante tener en cuenta los desafíos éticos y de seguridad asociados con la creación de una AGI, y debemos trabajar para abordar estos problemas desde el principio de su desarrollo.\n",
      "\n",
      "Podcast Host: Totalmente de acuerdo contigo. ¿Qué piensas sobre la actualidad de los chatbots y la capacidad de estos de imitar conversaciones humanas? ¿Crees que algún día podrían ser indistinguibles de una conversación entre dos humanos?\n",
      "\n",
      "Guest: Los chatbots han avanzado mucho en los últimos años, y han demostrado ser una herramienta muy útil en una variedad de aplicaciones, desde atención al cliente hasta asistentes de voz en el hogar. Sin embargo, creo que todavía hay un largo camino por recorrer antes de que puedan imitar completamente las conversaciones humanas.\n",
      "\n",
      "Si bien los chatbots pueden procesar y analizar grandes cantidades de datos para generar respuestas razonables, todavía tienen dificultades para entender el contexto y los matices de la comunicación humana. Además, los humanos somos muy buenos para detectar patrones y anomalías en el lenguaje, lo que hace que sea difícil para los chatbots replicar la forma en que las personas hablan realmente.\n",
      "\n",
      "Dicho esto, creo que es posible que algún día los chatbots sean capaces de imitar conversaciones humanas con un alto grado de precisión. Sin embargo, es importante recordar que siempre habrá diferencias entre la comunicación humana y la generada por la IA, y es importante tener en cuenta estas diferencias al implementar chatbots en situaciones de la vida real.\n",
      "\n",
      "Podcast Host: Muy interesante. Ahora, ¿qué piensas de la ética en la inteligencia artificial? ¿Cuáles son algunos de los desafíos éticos que enfrentamos al desarrollar y utilizar la inteligencia artificial?\n",
      "\n",
      "Guest: La ética en la inteligencia artificial es una preocupación muy importante y cada vez más relevante a medida que la IA se integra en más aspectos de nuestra vida diaria. Hay varios desafíos éticos que enfrentamos al desarrollar y utilizar la inteligencia artificial, y algunos de los más importantes son los siguientes:\n",
      "\n",
      "- Sesgo algorítmico: los algoritmos de IA pueden reflejar los prejuicios y estereotipos de las personas que los programan. Esto puede llevar a resultados injustos o discriminatorios en aplicaciones como la selección de candidatos para trabajos o la aprobación de créditos.\n",
      "\n",
      "- Privacidad y seguridad de los datos: la IA a menudo requiere grandes cantidades de datos para entrenar y mejorar, y es importante asegurarse de que estos datos sean seguros y privados.\n",
      "\n",
      "- Responsabilidad y transparencia: a medida que la IA se vuelve más avanzada y autónoma, es importante tener mecanismos para responsabilizar a los sistemas de IA cuando se cometen errores o se toman decisiones cuestionables. También es importante que los sistemas de IA sean transparentes en la forma en que toman decisiones.\n",
      "\n",
      "- Impacto en el empleo: la IA tiene el potencial de desplazar a los trabajadores en muchos sectores, lo que puede tener un impacto negativo en la sociedad si no se aborda adecuadamente.\n",
      "\n",
      "En general, creo que es importante que la comunidad de IA aborde estos desafíos de manera proactiva y trabaje en colaboración con otras disciplinas, como la filosofía y la ética, para garantizar que la IA se desarrolle de una manera justa y responsable.\n",
      "\n"
     ]
    }
   ],
   "source": [
    "message = '¡Hola! Bienvenido al podcast \"Inteligencia Artificial para Cerebros Naturales\" donde conversamos sobre el futuro de la inteligencia artificial y sus implicaciones en la sociedad. ¿Cómo te llamas?'\n",
    "\n",
    "for i in range(5):\n",
    "    print(f'Podcast Host:\\n{message}\\n\\n')\n",
    "    response = alonso_ai.chat(message)\n",
    "    print(f'Guest:\\n{response}\\n\\n')\n",
    "    message = alonso.chat(response)"
   ]
  },
  {
   "cell_type": "code",
   "execution_count": 34,
   "metadata": {},
   "outputs": [],
   "source": [
    "def calculate_number_words(text: str) -> int:\n",
    "    \"\"\"Calculate number of words of string.\"\"\"\n",
    "    return len(text.split())"
   ]
  },
  {
   "cell_type": "code",
   "execution_count": 35,
   "metadata": {},
   "outputs": [
    {
     "data": {
      "text/plain": [
       "5"
      ]
     },
     "execution_count": 35,
     "metadata": {},
     "output_type": "execute_result"
    }
   ],
   "source": [
    "calculate_number_words('¡Hola! ¿Cómo te llamas tu?')"
   ]
  },
  {
   "cell_type": "code",
   "execution_count": null,
   "metadata": {},
   "outputs": [],
   "source": [
    "#read a YAML file to a dict\n",
    "import yaml\n",
    "with open('../src/characters.yaml') as file:\n",
    "    characters = yaml.load(file, Loader=yaml.FullLoader)\n",
    "    "
   ]
  },
  {
   "cell_type": "code",
   "execution_count": 36,
   "metadata": {},
   "outputs": [],
   "source": [
    "audio_urls = ['https://media.play.ht/full_-NTkDTy5K3lvlGyv6ZG2.mp3?generation=1682288800553513&alt=media', 'https://media.play.ht/full_-NTkDU9TdSLl-DW1Nae_.mp3?generation=1682288801595099&alt=media', 'https://media.play.ht/full_-NTkDULy1AYPCVtnc0qo.mp3?generation=1682288802396712&alt=media', 'https://media.play.ht/full_-NTkDUXRj7JDHHtrjcmJ.mp3?generation=1682288803003355&alt=media', 'https://media.play.ht/full_-NTkDUhqhbgIKaBA475V.mp3?generation=1682288803712751&alt=media']"
   ]
  },
  {
   "cell_type": "code",
   "execution_count": 43,
   "metadata": {},
   "outputs": [],
   "source": [
    "import requests\n",
    "from pydub import AudioSegment\n",
    "import io\n",
    "\n",
    "def download_audio(url):\n",
    "    response = requests.get(url)\n",
    "    if response.status_code == 200:\n",
    "        return response.content\n",
    "    else:\n",
    "        print(f\"Failed to download {url}\")\n",
    "        return None\n",
    "\n",
    "def merge_audio_files(urls, output_file):\n",
    "    merged_audio = AudioSegment.empty()\n",
    "    \n",
    "    for url in urls:\n",
    "        audio_data = download_audio(url)\n",
    "        if audio_data is not None:\n",
    "            audio = AudioSegment.from_file(io.BytesIO(audio_data), format=\"mp3\")\n",
    "            merged_audio += audio\n",
    "        else:\n",
    "            print(f\"Skipping {url}\")\n",
    "    \n",
    "    merged_audio.export(output_file, format=\"mp3\")\n",
    "    print(f\"Merged audio saved to {output_file}\")"
   ]
  },
  {
   "cell_type": "code",
   "execution_count": 44,
   "metadata": {},
   "outputs": [
    {
     "name": "stdout",
     "output_type": "stream",
     "text": [
      "Merged audio saved to merged_audio.mp3\n"
     ]
    }
   ],
   "source": [
    "output_file = \"merged_audio.mp3\"\n",
    "merge_audio_files(audio_urls, output_file)"
   ]
  }
 ],
 "metadata": {
  "kernelspec": {
   "display_name": "live-chat",
   "language": "python",
   "name": "python3"
  },
  "language_info": {
   "codemirror_mode": {
    "name": "ipython",
    "version": 3
   },
   "file_extension": ".py",
   "mimetype": "text/x-python",
   "name": "python",
   "nbconvert_exporter": "python",
   "pygments_lexer": "ipython3",
   "version": "3.9.16"
  },
  "orig_nbformat": 4
 },
 "nbformat": 4,
 "nbformat_minor": 2
}
